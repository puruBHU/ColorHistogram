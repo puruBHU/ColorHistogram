{
  "nbformat": 4,
  "nbformat_minor": 0,
  "metadata": {
    "colab": {
      "name": "HourglassHeatmap.ipynb",
      "provenance": [],
      "collapsed_sections": [],
      "machine_shape": "hm",
      "mount_file_id": "1sVR13FUgy11-jxSU75x6KisfbHqu9gTY",
      "authorship_tag": "ABX9TyMQQIGGx7QwUqhyI4vIyhun",
      "include_colab_link": true
    },
    "kernelspec": {
      "name": "python3",
      "display_name": "Python 3"
    },
    "language_info": {
      "name": "python"
    },
    "accelerator": "GPU"
  },
  "cells": [
    {
      "cell_type": "markdown",
      "metadata": {
        "id": "view-in-github",
        "colab_type": "text"
      },
      "source": [
        "<a href=\"https://colab.research.google.com/github/puruBHU/ColorHistogram/blob/master/HourglassHeatmap.ipynb\" target=\"_parent\"><img src=\"https://colab.research.google.com/assets/colab-badge.svg\" alt=\"Open In Colab\"/></a>"
      ]
    },
    {
      "cell_type": "code",
      "metadata": {
        "id": "QbMsoZK_cmh7"
      },
      "source": [
        "!cp \"/content/drive/MyDrive/Datasets/onehand10k.zip\" './'\n",
        "!unzip -q 'onehand10k.zip'"
      ],
      "execution_count": 1,
      "outputs": []
    },
    {
      "cell_type": "code",
      "metadata": {
        "id": "K5axlfi3dAyT"
      },
      "source": [
        "import numpy as np\n",
        "import pandas as pd\n",
        "from   pathlib import Path\n",
        "\n",
        "\n",
        "import tensorflow as tf\n",
        "from tensorflow.keras.optimizers import Adam, SGD\n",
        "from tensorflow.keras.callbacks import CSVLogger, ModelCheckpoint\n",
        "\n",
        "\n",
        "# Local library import\n",
        "from CustomDataloader import DataAugmentor\n",
        "# from CustomCallback import PolyLR\n",
        "\n",
        "\n",
        "from Model import LSTD"
      ],
      "execution_count": 1,
      "outputs": []
    },
    {
      "cell_type": "code",
      "metadata": {
        "id": "MDn46lOydc3J"
      },
      "source": [
        "root         = Path.cwd()\n",
        "train_file   = Path.cwd()/'onehand10k_train_files.txt'\n",
        "val_file     = Path.cwd()/'onehand10k_test_files.txt'"
      ],
      "execution_count": 2,
      "outputs": []
    },
    {
      "cell_type": "code",
      "metadata": {
        "id": "a_qKHOeedIup"
      },
      "source": [
        "target_size    = (256,) * 2\n",
        "\n",
        "batch_size     = 16\n",
        "epochs         = 150\n",
        "\n",
        "n_cells        = target_size[0] // 32"
      ],
      "execution_count": 3,
      "outputs": []
    },
    {
      "cell_type": "code",
      "metadata": {
        "id": "UA6AvhoQdvom"
      },
      "source": [
        "train_data   = DataAugmentor(rescale         = 1/255.0,\n",
        "                             horizontal_flip = False,\n",
        "                             vertical_flip   = False,\n",
        "                             translation     = False,\n",
        "                             rotation        = False)\n",
        "\n",
        "train_loader = train_data.flow_from_directory(root        = root,\n",
        "                                              data_file   = train_file, \n",
        "                                              target_size = target_size,\n",
        "                                              mode        = 'train',\n",
        "                                              batch_size  = batch_size,\n",
        "                                              shuffle     = True)\n",
        "\n",
        "\n",
        "val_data    = DataAugmentor(rescale = 1/255.0)\n",
        "\n",
        "val_loader  = val_data.flow_from_directory(root        = root,\n",
        "                                           data_file   = val_file, \n",
        "                                           target_size = target_size,\n",
        "                                           mode        = 'test',\n",
        "                                           batch_size  = batch_size,\n",
        "                                           shuffle     = False\n",
        "                                           )\n"
      ],
      "execution_count": 4,
      "outputs": []
    },
    {
      "cell_type": "code",
      "metadata": {
        "id": "zG68aNLkd2r8"
      },
      "source": [
        "save_path = Path.cwd()/'checkpoints'\n",
        "\n",
        "if not save_path.exists():\n",
        "  save_path.mkdir(parents = True)\n",
        "  \n",
        "  \n",
        "checkpoints = ModelCheckpoint('{}/LSTD_OneHand_SGD_'.format(save_path) + '{epoch:03d}_{val_loss:0.4f}.hdf5',\n",
        "                              monitor        = 'val_loss',\n",
        "                              mode           = 'auto',\n",
        "                              verbose        = 1,\n",
        "                              save_best_only = True, \n",
        "                              save_freq      = 'epoch'\n",
        "                              )\n",
        "\n",
        "# records     = CSVLogger('logs/LSTD_OneHand_training.log')\n",
        "callbacks = [checkpoints]"
      ],
      "execution_count": 5,
      "outputs": []
    },
    {
      "cell_type": "code",
      "metadata": {
        "id": "bkj32pL2ktci"
      },
      "source": [
        "def rmse(x, y):\n",
        "    x = tf.math.sqrt(tf.keras.losses.MSE(x,y))\n",
        "    return x\n",
        "\n",
        "loss         = {'heatmapsA':rmse,\n",
        "                'heatmapsB':rmse\n",
        "                }\n",
        "\n",
        "metrics      = {'heatmapsA': 'mae',\n",
        "                'heatmapsB': 'mae'\n",
        "               }"
      ],
      "execution_count": 6,
      "outputs": []
    },
    {
      "cell_type": "code",
      "metadata": {
        "id": "UkEQOah3d9ry"
      },
      "source": [
        "model    = LSTD(input_shape = target_size + (3,), n_keys = 21)\n",
        "opt      = Adam(lr = 0.0002, beta_1 = 0.5)  \n",
        "# opt      = SGD(lr = initial_lr, momentum=0.9, nesterov=True, decay=1e-6)\n",
        "\n",
        "model.compile(optimizer    = opt,\n",
        "              loss         = loss,\n",
        "              metrics      = metrics,\n",
        "              )"
      ],
      "execution_count": 7,
      "outputs": []
    },
    {
      "cell_type": "code",
      "metadata": {
        "colab": {
          "base_uri": "https://localhost:8080/"
        },
        "id": "7KFry0vFeAZy",
        "outputId": "8a8e14f5-ef0b-4ed0-ee3f-381758137860"
      },
      "source": [
        "model.fit(x                   = train_loader,\n",
        "          validation_data     = val_loader,\n",
        "          epochs              = epochs,\n",
        "          steps_per_epoch     = len(train_loader),\n",
        "          callbacks           = callbacks,\n",
        "          use_multiprocessing = False,\n",
        "          workers             = 4,\n",
        "          verbose             = 1,\n",
        "          initial_epoch       = 0\n",
        "          )"
      ],
      "execution_count": null,
      "outputs": [
        {
          "output_type": "stream",
          "text": [
            "Epoch 1/150\n",
            "275/623 [============>.................] - ETA: 4:04 - loss: 0.6948 - heatmapsA_loss: 0.3253 - heatmapsB_loss: 0.3695 - heatmapsA_mae: 0.2581 - heatmapsB_mae: 0.2947"
          ],
          "name": "stdout"
        }
      ]
    }
  ]
}